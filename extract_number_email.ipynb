{
 "cells": [
  {
   "cell_type": "code",
   "execution_count": 8,
   "metadata": {},
   "outputs": [
    {
     "name": "stdout",
     "output_type": "stream",
     "text": [
      "copying to clipboard\n",
      "987-212-1234\n",
      "977-777-9999\n",
      "123-123-1234\n",
      "omber@gmail.com\n",
      "qweqwex@gmail.com\n",
      "qwerty@gmail.com\n"
     ]
    }
   ],
   "source": [
    "'''\n",
    "mykweneicnccewcewncjcwkwmwlwemcnclkccwcccnwkelc 987-212-1234 dwecmewewmccew\n",
    "omber@gmail.com 1232312345 what do u do huh jsnddlnwel qweqwex@gmail.com necijwecnece\n",
    "977-777-9999 djcnewicjwepocmwepoc qwerty@gmail.com cjweicwe.com cineicewnci 123-123-1234\n",
    "'''\n",
    "import pyperclip,re\n",
    "s=pyperclip.paste()\n",
    "pattern1=re.compile(r'''(\n",
    "\\d{3}\n",
    "-\n",
    "\\d{3}\n",
    "-\n",
    "\\d{4}\n",
    ")''',re.VERBOSE)\n",
    "match1=pattern1.findall(s)\n",
    "pattern2=re.compile(r'''(\n",
    "\\w+\n",
    "\\@\n",
    "\\w+\n",
    "\\.\n",
    "\\w+\n",
    ")''',re.VERBOSE)\n",
    "match2=pattern2.findall(s)\n",
    "print(\"copying to clipboard\")\n",
    "for i in match1:\n",
    "    print(i)\n",
    "for i in match2:\n",
    "    print(i)\n",
    "str='\\n'.join(match1)\n",
    "str=str+'\\n'+'\\n'.join(match2)\n",
    "pyperclip.copy(str)"
   ]
  }
 ],
 "metadata": {
  "kernelspec": {
   "display_name": "Python 3",
   "language": "python",
   "name": "python3"
  },
  "language_info": {
   "codemirror_mode": {
    "name": "ipython",
    "version": 3
   },
   "file_extension": ".py",
   "mimetype": "text/x-python",
   "name": "python",
   "nbconvert_exporter": "python",
   "pygments_lexer": "ipython3",
   "version": "3.9.0"
  }
 },
 "nbformat": 4,
 "nbformat_minor": 4
}
